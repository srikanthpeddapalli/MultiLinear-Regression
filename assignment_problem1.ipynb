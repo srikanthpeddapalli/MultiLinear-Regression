{
 "cells": [
  {
   "cell_type": "code",
   "execution_count": 1,
   "id": "afe54daa",
   "metadata": {},
   "outputs": [],
   "source": [
    "# importing the necessary libraries"
   ]
  },
  {
   "cell_type": "code",
   "execution_count": 2,
   "id": "948dc4dc",
   "metadata": {},
   "outputs": [],
   "source": [
    "import numpy as np\n",
    "import pandas as pd\n",
    "import matplotlib.pyplot as plt\n",
    "%matplotlib inline\n",
    "import seaborn as sns"
   ]
  },
  {
   "cell_type": "markdown",
   "id": "9fdb0755",
   "metadata": {},
   "source": [
    "# loading the dataset"
   ]
  },
  {
   "cell_type": "code",
   "execution_count": 3,
   "id": "f3e1565f",
   "metadata": {},
   "outputs": [],
   "source": [
    "player=pd.read_csv(\"nba_Player data.csv\")"
   ]
  },
  {
   "cell_type": "code",
   "execution_count": 4,
   "id": "64c2981e",
   "metadata": {},
   "outputs": [
    {
     "data": {
      "text/html": [
       "<div>\n",
       "<style scoped>\n",
       "    .dataframe tbody tr th:only-of-type {\n",
       "        vertical-align: middle;\n",
       "    }\n",
       "\n",
       "    .dataframe tbody tr th {\n",
       "        vertical-align: top;\n",
       "    }\n",
       "\n",
       "    .dataframe thead th {\n",
       "        text-align: right;\n",
       "    }\n",
       "</style>\n",
       "<table border=\"1\" class=\"dataframe\">\n",
       "  <thead>\n",
       "    <tr style=\"text-align: right;\">\n",
       "      <th></th>\n",
       "      <th>Player</th>\n",
       "      <th>Position</th>\n",
       "      <th>Age</th>\n",
       "      <th>Games</th>\n",
       "      <th>Minutes Played</th>\n",
       "      <th>True Shooting(%)</th>\n",
       "      <th>Threepoint Attempt rate</th>\n",
       "      <th>Free throw attempt rate</th>\n",
       "      <th>Player Efficiency Rating</th>\n",
       "    </tr>\n",
       "  </thead>\n",
       "  <tbody>\n",
       "    <tr>\n",
       "      <th>0</th>\n",
       "      <td>Precious Achiuwa</td>\n",
       "      <td>PF</td>\n",
       "      <td>21</td>\n",
       "      <td>28</td>\n",
       "      <td>408.0</td>\n",
       "      <td>0.599</td>\n",
       "      <td>0.000</td>\n",
       "      <td>0.541</td>\n",
       "      <td>15.1</td>\n",
       "    </tr>\n",
       "    <tr>\n",
       "      <th>1</th>\n",
       "      <td>Jaylen Adams</td>\n",
       "      <td>PG</td>\n",
       "      <td>24</td>\n",
       "      <td>6</td>\n",
       "      <td>17.0</td>\n",
       "      <td>0.125</td>\n",
       "      <td>0.250</td>\n",
       "      <td>0.000</td>\n",
       "      <td>-6.9</td>\n",
       "    </tr>\n",
       "    <tr>\n",
       "      <th>2</th>\n",
       "      <td>Steven Adams</td>\n",
       "      <td>C</td>\n",
       "      <td>27</td>\n",
       "      <td>27</td>\n",
       "      <td>760.0</td>\n",
       "      <td>0.592</td>\n",
       "      <td>NaN</td>\n",
       "      <td>0.397</td>\n",
       "      <td>15.9</td>\n",
       "    </tr>\n",
       "    <tr>\n",
       "      <th>3</th>\n",
       "      <td>Bam Adebayo</td>\n",
       "      <td>C</td>\n",
       "      <td>23</td>\n",
       "      <td>26</td>\n",
       "      <td>873.0</td>\n",
       "      <td>0.641</td>\n",
       "      <td>0.015</td>\n",
       "      <td>0.469</td>\n",
       "      <td>22.7</td>\n",
       "    </tr>\n",
       "    <tr>\n",
       "      <th>4</th>\n",
       "      <td>LaMarcus Aldridge</td>\n",
       "      <td>C</td>\n",
       "      <td>35</td>\n",
       "      <td>18</td>\n",
       "      <td>480.0</td>\n",
       "      <td>0.542</td>\n",
       "      <td>0.298</td>\n",
       "      <td>0.093</td>\n",
       "      <td>15.2</td>\n",
       "    </tr>\n",
       "  </tbody>\n",
       "</table>\n",
       "</div>"
      ],
      "text/plain": [
       "              Player Position  Age  Games  Minutes Played  True Shooting(%)  \\\n",
       "0   Precious Achiuwa       PF   21     28           408.0             0.599   \n",
       "1       Jaylen Adams       PG   24      6            17.0             0.125   \n",
       "2       Steven Adams        C   27     27           760.0             0.592   \n",
       "3        Bam Adebayo        C   23     26           873.0             0.641   \n",
       "4  LaMarcus Aldridge        C   35     18           480.0             0.542   \n",
       "\n",
       "   Threepoint Attempt rate  Free throw attempt rate  Player Efficiency Rating  \n",
       "0                    0.000                    0.541                      15.1  \n",
       "1                    0.250                    0.000                      -6.9  \n",
       "2                      NaN                    0.397                      15.9  \n",
       "3                    0.015                    0.469                      22.7  \n",
       "4                    0.298                    0.093                      15.2  "
      ]
     },
     "execution_count": 4,
     "metadata": {},
     "output_type": "execute_result"
    }
   ],
   "source": [
    "player.head()"
   ]
  },
  {
   "cell_type": "code",
   "execution_count": 5,
   "id": "d60e467d",
   "metadata": {},
   "outputs": [
    {
     "data": {
      "text/html": [
       "<div>\n",
       "<style scoped>\n",
       "    .dataframe tbody tr th:only-of-type {\n",
       "        vertical-align: middle;\n",
       "    }\n",
       "\n",
       "    .dataframe tbody tr th {\n",
       "        vertical-align: top;\n",
       "    }\n",
       "\n",
       "    .dataframe thead th {\n",
       "        text-align: right;\n",
       "    }\n",
       "</style>\n",
       "<table border=\"1\" class=\"dataframe\">\n",
       "  <thead>\n",
       "    <tr style=\"text-align: right;\">\n",
       "      <th></th>\n",
       "      <th>Player</th>\n",
       "      <th>Position</th>\n",
       "      <th>Age</th>\n",
       "      <th>Games</th>\n",
       "      <th>Minutes Played</th>\n",
       "      <th>True Shooting(%)</th>\n",
       "      <th>Threepoint Attempt rate</th>\n",
       "      <th>Free throw attempt rate</th>\n",
       "      <th>Player Efficiency Rating</th>\n",
       "    </tr>\n",
       "  </thead>\n",
       "  <tbody>\n",
       "    <tr>\n",
       "      <th>492</th>\n",
       "      <td>Delon Wright</td>\n",
       "      <td>SG</td>\n",
       "      <td>28</td>\n",
       "      <td>28</td>\n",
       "      <td>823.0</td>\n",
       "      <td>0.559</td>\n",
       "      <td>0.298</td>\n",
       "      <td>0.346</td>\n",
       "      <td>16.6</td>\n",
       "    </tr>\n",
       "    <tr>\n",
       "      <th>493</th>\n",
       "      <td>Thaddeus Young</td>\n",
       "      <td>PF</td>\n",
       "      <td>32</td>\n",
       "      <td>23</td>\n",
       "      <td>592.0</td>\n",
       "      <td>0.597</td>\n",
       "      <td>0.104</td>\n",
       "      <td>0.169</td>\n",
       "      <td>18.5</td>\n",
       "    </tr>\n",
       "    <tr>\n",
       "      <th>494</th>\n",
       "      <td>Trae Young</td>\n",
       "      <td>PG</td>\n",
       "      <td>22</td>\n",
       "      <td>26</td>\n",
       "      <td>901.0</td>\n",
       "      <td>0.598</td>\n",
       "      <td>0.349</td>\n",
       "      <td>0.577</td>\n",
       "      <td>22.9</td>\n",
       "    </tr>\n",
       "    <tr>\n",
       "      <th>495</th>\n",
       "      <td>Cody Zeller</td>\n",
       "      <td>C</td>\n",
       "      <td>28</td>\n",
       "      <td>15</td>\n",
       "      <td>361.0</td>\n",
       "      <td>0.569</td>\n",
       "      <td>0.133</td>\n",
       "      <td>0.242</td>\n",
       "      <td>18.2</td>\n",
       "    </tr>\n",
       "    <tr>\n",
       "      <th>496</th>\n",
       "      <td>Ivica Zubac</td>\n",
       "      <td>C</td>\n",
       "      <td>23</td>\n",
       "      <td>30</td>\n",
       "      <td>586.0</td>\n",
       "      <td>0.722</td>\n",
       "      <td>0.007</td>\n",
       "      <td>0.500</td>\n",
       "      <td>20.5</td>\n",
       "    </tr>\n",
       "  </tbody>\n",
       "</table>\n",
       "</div>"
      ],
      "text/plain": [
       "             Player Position  Age  Games  Minutes Played  True Shooting(%)  \\\n",
       "492    Delon Wright       SG   28     28           823.0             0.559   \n",
       "493  Thaddeus Young       PF   32     23           592.0             0.597   \n",
       "494      Trae Young       PG   22     26           901.0             0.598   \n",
       "495     Cody Zeller        C   28     15           361.0             0.569   \n",
       "496     Ivica Zubac        C   23     30           586.0             0.722   \n",
       "\n",
       "     Threepoint Attempt rate  Free throw attempt rate  \\\n",
       "492                    0.298                    0.346   \n",
       "493                    0.104                    0.169   \n",
       "494                    0.349                    0.577   \n",
       "495                    0.133                    0.242   \n",
       "496                    0.007                    0.500   \n",
       "\n",
       "     Player Efficiency Rating  \n",
       "492                      16.6  \n",
       "493                      18.5  \n",
       "494                      22.9  \n",
       "495                      18.2  \n",
       "496                      20.5  "
      ]
     },
     "execution_count": 5,
     "metadata": {},
     "output_type": "execute_result"
    }
   ],
   "source": [
    "player.tail()"
   ]
  },
  {
   "cell_type": "code",
   "execution_count": 6,
   "id": "d6144c3e",
   "metadata": {},
   "outputs": [
    {
     "data": {
      "text/html": [
       "<div>\n",
       "<style scoped>\n",
       "    .dataframe tbody tr th:only-of-type {\n",
       "        vertical-align: middle;\n",
       "    }\n",
       "\n",
       "    .dataframe tbody tr th {\n",
       "        vertical-align: top;\n",
       "    }\n",
       "\n",
       "    .dataframe thead th {\n",
       "        text-align: right;\n",
       "    }\n",
       "</style>\n",
       "<table border=\"1\" class=\"dataframe\">\n",
       "  <thead>\n",
       "    <tr style=\"text-align: right;\">\n",
       "      <th></th>\n",
       "      <th>0</th>\n",
       "      <th>1</th>\n",
       "      <th>2</th>\n",
       "      <th>3</th>\n",
       "      <th>4</th>\n",
       "    </tr>\n",
       "  </thead>\n",
       "  <tbody>\n",
       "    <tr>\n",
       "      <th>Player</th>\n",
       "      <td>Precious Achiuwa</td>\n",
       "      <td>Jaylen Adams</td>\n",
       "      <td>Steven Adams</td>\n",
       "      <td>Bam Adebayo</td>\n",
       "      <td>LaMarcus Aldridge</td>\n",
       "    </tr>\n",
       "    <tr>\n",
       "      <th>Position</th>\n",
       "      <td>PF</td>\n",
       "      <td>PG</td>\n",
       "      <td>C</td>\n",
       "      <td>C</td>\n",
       "      <td>C</td>\n",
       "    </tr>\n",
       "    <tr>\n",
       "      <th>Age</th>\n",
       "      <td>21</td>\n",
       "      <td>24</td>\n",
       "      <td>27</td>\n",
       "      <td>23</td>\n",
       "      <td>35</td>\n",
       "    </tr>\n",
       "    <tr>\n",
       "      <th>Games</th>\n",
       "      <td>28</td>\n",
       "      <td>6</td>\n",
       "      <td>27</td>\n",
       "      <td>26</td>\n",
       "      <td>18</td>\n",
       "    </tr>\n",
       "    <tr>\n",
       "      <th>Minutes Played</th>\n",
       "      <td>408.0</td>\n",
       "      <td>17.0</td>\n",
       "      <td>760.0</td>\n",
       "      <td>873.0</td>\n",
       "      <td>480.0</td>\n",
       "    </tr>\n",
       "    <tr>\n",
       "      <th>True Shooting(%)</th>\n",
       "      <td>0.599</td>\n",
       "      <td>0.125</td>\n",
       "      <td>0.592</td>\n",
       "      <td>0.641</td>\n",
       "      <td>0.542</td>\n",
       "    </tr>\n",
       "    <tr>\n",
       "      <th>Threepoint Attempt rate</th>\n",
       "      <td>0.0</td>\n",
       "      <td>0.25</td>\n",
       "      <td>NaN</td>\n",
       "      <td>0.015</td>\n",
       "      <td>0.298</td>\n",
       "    </tr>\n",
       "    <tr>\n",
       "      <th>Free throw attempt rate</th>\n",
       "      <td>0.541</td>\n",
       "      <td>0.0</td>\n",
       "      <td>0.397</td>\n",
       "      <td>0.469</td>\n",
       "      <td>0.093</td>\n",
       "    </tr>\n",
       "    <tr>\n",
       "      <th>Player Efficiency Rating</th>\n",
       "      <td>15.1</td>\n",
       "      <td>-6.9</td>\n",
       "      <td>15.9</td>\n",
       "      <td>22.7</td>\n",
       "      <td>15.2</td>\n",
       "    </tr>\n",
       "  </tbody>\n",
       "</table>\n",
       "</div>"
      ],
      "text/plain": [
       "                                         0             1             2  \\\n",
       "Player                    Precious Achiuwa  Jaylen Adams  Steven Adams   \n",
       "Position                                PF            PG             C   \n",
       "Age                                     21            24            27   \n",
       "Games                                   28             6            27   \n",
       "Minutes Played                       408.0          17.0         760.0   \n",
       "True Shooting(%)                     0.599         0.125         0.592   \n",
       "Threepoint Attempt rate                0.0          0.25           NaN   \n",
       "Free throw attempt rate              0.541           0.0         0.397   \n",
       "Player Efficiency Rating              15.1          -6.9          15.9   \n",
       "\n",
       "                                    3                  4  \n",
       "Player                    Bam Adebayo  LaMarcus Aldridge  \n",
       "Position                            C                  C  \n",
       "Age                                23                 35  \n",
       "Games                              26                 18  \n",
       "Minutes Played                  873.0              480.0  \n",
       "True Shooting(%)                0.641              0.542  \n",
       "Threepoint Attempt rate         0.015              0.298  \n",
       "Free throw attempt rate         0.469              0.093  \n",
       "Player Efficiency Rating         22.7               15.2  "
      ]
     },
     "execution_count": 6,
     "metadata": {},
     "output_type": "execute_result"
    }
   ],
   "source": [
    "player.head().transpose()"
   ]
  },
  {
   "cell_type": "markdown",
   "id": "2c73db6d",
   "metadata": {},
   "source": [
    "# checking the missing values"
   ]
  },
  {
   "cell_type": "code",
   "execution_count": 7,
   "id": "166b4791",
   "metadata": {},
   "outputs": [
    {
     "data": {
      "text/plain": [
       "Player                      0\n",
       "Position                    0\n",
       "Age                         0\n",
       "Games                       0\n",
       "Minutes Played              2\n",
       "True Shooting(%)            3\n",
       "Threepoint Attempt rate     2\n",
       "Free throw attempt rate     2\n",
       "Player Efficiency Rating    0\n",
       "dtype: int64"
      ]
     },
     "execution_count": 7,
     "metadata": {},
     "output_type": "execute_result"
    }
   ],
   "source": [
    "player.isna().sum()"
   ]
  },
  {
   "cell_type": "code",
   "execution_count": 8,
   "id": "bd2a2a24",
   "metadata": {},
   "outputs": [],
   "source": [
    "player[\"Minutes Played\"].fillna(player[\"Minutes Played\"].mean(),inplace=True)"
   ]
  },
  {
   "cell_type": "code",
   "execution_count": 9,
   "id": "4543fe36",
   "metadata": {},
   "outputs": [
    {
     "data": {
      "text/plain": [
       "Player                      0\n",
       "Position                    0\n",
       "Age                         0\n",
       "Games                       0\n",
       "Minutes Played              0\n",
       "True Shooting(%)            3\n",
       "Threepoint Attempt rate     2\n",
       "Free throw attempt rate     2\n",
       "Player Efficiency Rating    0\n",
       "dtype: int64"
      ]
     },
     "execution_count": 9,
     "metadata": {},
     "output_type": "execute_result"
    }
   ],
   "source": [
    "#now checking the values\n",
    "player.isna().sum()"
   ]
  },
  {
   "cell_type": "code",
   "execution_count": 10,
   "id": "9b5ab1c5",
   "metadata": {},
   "outputs": [],
   "source": [
    "player[\"True Shooting(%)\"].fillna(player[\"True Shooting(%)\"].mean(),inplace=True)"
   ]
  },
  {
   "cell_type": "code",
   "execution_count": 11,
   "id": "968dedc6",
   "metadata": {},
   "outputs": [
    {
     "data": {
      "text/plain": [
       "Player                      0\n",
       "Position                    0\n",
       "Age                         0\n",
       "Games                       0\n",
       "Minutes Played              0\n",
       "True Shooting(%)            0\n",
       "Threepoint Attempt rate     2\n",
       "Free throw attempt rate     2\n",
       "Player Efficiency Rating    0\n",
       "dtype: int64"
      ]
     },
     "execution_count": 11,
     "metadata": {},
     "output_type": "execute_result"
    }
   ],
   "source": [
    "player.isna().sum()"
   ]
  },
  {
   "cell_type": "code",
   "execution_count": 12,
   "id": "3a78a627",
   "metadata": {},
   "outputs": [],
   "source": [
    "player[\"Threepoint Attempt rate\"].fillna(player[\"Threepoint Attempt rate\"].mean(),inplace=True)"
   ]
  },
  {
   "cell_type": "code",
   "execution_count": 13,
   "id": "064f5af1",
   "metadata": {},
   "outputs": [
    {
     "data": {
      "text/plain": [
       "Player                      0\n",
       "Position                    0\n",
       "Age                         0\n",
       "Games                       0\n",
       "Minutes Played              0\n",
       "True Shooting(%)            0\n",
       "Threepoint Attempt rate     0\n",
       "Free throw attempt rate     2\n",
       "Player Efficiency Rating    0\n",
       "dtype: int64"
      ]
     },
     "execution_count": 13,
     "metadata": {},
     "output_type": "execute_result"
    }
   ],
   "source": [
    "player.isna().sum()"
   ]
  },
  {
   "cell_type": "code",
   "execution_count": 14,
   "id": "72f481d7",
   "metadata": {},
   "outputs": [],
   "source": [
    "player.dropna(inplace=True)"
   ]
  },
  {
   "cell_type": "code",
   "execution_count": 15,
   "id": "0feae097",
   "metadata": {},
   "outputs": [
    {
     "data": {
      "text/plain": [
       "Player                      0\n",
       "Position                    0\n",
       "Age                         0\n",
       "Games                       0\n",
       "Minutes Played              0\n",
       "True Shooting(%)            0\n",
       "Threepoint Attempt rate     0\n",
       "Free throw attempt rate     0\n",
       "Player Efficiency Rating    0\n",
       "dtype: int64"
      ]
     },
     "execution_count": 15,
     "metadata": {},
     "output_type": "execute_result"
    }
   ],
   "source": [
    "#now checking the dataset\n",
    "player.isna().sum()"
   ]
  },
  {
   "cell_type": "code",
   "execution_count": 16,
   "id": "81eba9d7",
   "metadata": {},
   "outputs": [
    {
     "data": {
      "text/plain": [
       "495"
      ]
     },
     "execution_count": 16,
     "metadata": {},
     "output_type": "execute_result"
    }
   ],
   "source": [
    "len(player)"
   ]
  },
  {
   "cell_type": "code",
   "execution_count": 17,
   "id": "105101f8",
   "metadata": {},
   "outputs": [],
   "source": [
    "#dividing dataset into x and y"
   ]
  },
  {
   "cell_type": "code",
   "execution_count": 18,
   "id": "520d7a00",
   "metadata": {},
   "outputs": [],
   "source": [
    "x=player.drop(\"Player Efficiency Rating\",axis=1)"
   ]
  },
  {
   "cell_type": "code",
   "execution_count": 19,
   "id": "4e9645bf",
   "metadata": {},
   "outputs": [],
   "source": [
    "y=player[\"Player Efficiency Rating\"]"
   ]
  },
  {
   "cell_type": "code",
   "execution_count": 20,
   "id": "f006c9d5",
   "metadata": {},
   "outputs": [
    {
     "data": {
      "text/html": [
       "<div>\n",
       "<style scoped>\n",
       "    .dataframe tbody tr th:only-of-type {\n",
       "        vertical-align: middle;\n",
       "    }\n",
       "\n",
       "    .dataframe tbody tr th {\n",
       "        vertical-align: top;\n",
       "    }\n",
       "\n",
       "    .dataframe thead th {\n",
       "        text-align: right;\n",
       "    }\n",
       "</style>\n",
       "<table border=\"1\" class=\"dataframe\">\n",
       "  <thead>\n",
       "    <tr style=\"text-align: right;\">\n",
       "      <th></th>\n",
       "      <th>Player</th>\n",
       "      <th>Position</th>\n",
       "      <th>Age</th>\n",
       "      <th>Games</th>\n",
       "      <th>Minutes Played</th>\n",
       "      <th>True Shooting(%)</th>\n",
       "      <th>Threepoint Attempt rate</th>\n",
       "      <th>Free throw attempt rate</th>\n",
       "    </tr>\n",
       "  </thead>\n",
       "  <tbody>\n",
       "    <tr>\n",
       "      <th>0</th>\n",
       "      <td>Precious Achiuwa</td>\n",
       "      <td>PF</td>\n",
       "      <td>21</td>\n",
       "      <td>28</td>\n",
       "      <td>408.0</td>\n",
       "      <td>0.599</td>\n",
       "      <td>0.000000</td>\n",
       "      <td>0.541</td>\n",
       "    </tr>\n",
       "    <tr>\n",
       "      <th>1</th>\n",
       "      <td>Jaylen Adams</td>\n",
       "      <td>PG</td>\n",
       "      <td>24</td>\n",
       "      <td>6</td>\n",
       "      <td>17.0</td>\n",
       "      <td>0.125</td>\n",
       "      <td>0.250000</td>\n",
       "      <td>0.000</td>\n",
       "    </tr>\n",
       "    <tr>\n",
       "      <th>2</th>\n",
       "      <td>Steven Adams</td>\n",
       "      <td>C</td>\n",
       "      <td>27</td>\n",
       "      <td>27</td>\n",
       "      <td>760.0</td>\n",
       "      <td>0.592</td>\n",
       "      <td>0.406362</td>\n",
       "      <td>0.397</td>\n",
       "    </tr>\n",
       "    <tr>\n",
       "      <th>3</th>\n",
       "      <td>Bam Adebayo</td>\n",
       "      <td>C</td>\n",
       "      <td>23</td>\n",
       "      <td>26</td>\n",
       "      <td>873.0</td>\n",
       "      <td>0.641</td>\n",
       "      <td>0.015000</td>\n",
       "      <td>0.469</td>\n",
       "    </tr>\n",
       "    <tr>\n",
       "      <th>4</th>\n",
       "      <td>LaMarcus Aldridge</td>\n",
       "      <td>C</td>\n",
       "      <td>35</td>\n",
       "      <td>18</td>\n",
       "      <td>480.0</td>\n",
       "      <td>0.542</td>\n",
       "      <td>0.298000</td>\n",
       "      <td>0.093</td>\n",
       "    </tr>\n",
       "    <tr>\n",
       "      <th>...</th>\n",
       "      <td>...</td>\n",
       "      <td>...</td>\n",
       "      <td>...</td>\n",
       "      <td>...</td>\n",
       "      <td>...</td>\n",
       "      <td>...</td>\n",
       "      <td>...</td>\n",
       "      <td>...</td>\n",
       "    </tr>\n",
       "    <tr>\n",
       "      <th>492</th>\n",
       "      <td>Delon Wright</td>\n",
       "      <td>SG</td>\n",
       "      <td>28</td>\n",
       "      <td>28</td>\n",
       "      <td>823.0</td>\n",
       "      <td>0.559</td>\n",
       "      <td>0.298000</td>\n",
       "      <td>0.346</td>\n",
       "    </tr>\n",
       "    <tr>\n",
       "      <th>493</th>\n",
       "      <td>Thaddeus Young</td>\n",
       "      <td>PF</td>\n",
       "      <td>32</td>\n",
       "      <td>23</td>\n",
       "      <td>592.0</td>\n",
       "      <td>0.597</td>\n",
       "      <td>0.104000</td>\n",
       "      <td>0.169</td>\n",
       "    </tr>\n",
       "    <tr>\n",
       "      <th>494</th>\n",
       "      <td>Trae Young</td>\n",
       "      <td>PG</td>\n",
       "      <td>22</td>\n",
       "      <td>26</td>\n",
       "      <td>901.0</td>\n",
       "      <td>0.598</td>\n",
       "      <td>0.349000</td>\n",
       "      <td>0.577</td>\n",
       "    </tr>\n",
       "    <tr>\n",
       "      <th>495</th>\n",
       "      <td>Cody Zeller</td>\n",
       "      <td>C</td>\n",
       "      <td>28</td>\n",
       "      <td>15</td>\n",
       "      <td>361.0</td>\n",
       "      <td>0.569</td>\n",
       "      <td>0.133000</td>\n",
       "      <td>0.242</td>\n",
       "    </tr>\n",
       "    <tr>\n",
       "      <th>496</th>\n",
       "      <td>Ivica Zubac</td>\n",
       "      <td>C</td>\n",
       "      <td>23</td>\n",
       "      <td>30</td>\n",
       "      <td>586.0</td>\n",
       "      <td>0.722</td>\n",
       "      <td>0.007000</td>\n",
       "      <td>0.500</td>\n",
       "    </tr>\n",
       "  </tbody>\n",
       "</table>\n",
       "<p>495 rows × 8 columns</p>\n",
       "</div>"
      ],
      "text/plain": [
       "                Player Position  Age  Games  Minutes Played  True Shooting(%)  \\\n",
       "0     Precious Achiuwa       PF   21     28           408.0             0.599   \n",
       "1         Jaylen Adams       PG   24      6            17.0             0.125   \n",
       "2         Steven Adams        C   27     27           760.0             0.592   \n",
       "3          Bam Adebayo        C   23     26           873.0             0.641   \n",
       "4    LaMarcus Aldridge        C   35     18           480.0             0.542   \n",
       "..                 ...      ...  ...    ...             ...               ...   \n",
       "492       Delon Wright       SG   28     28           823.0             0.559   \n",
       "493     Thaddeus Young       PF   32     23           592.0             0.597   \n",
       "494         Trae Young       PG   22     26           901.0             0.598   \n",
       "495        Cody Zeller        C   28     15           361.0             0.569   \n",
       "496        Ivica Zubac        C   23     30           586.0             0.722   \n",
       "\n",
       "     Threepoint Attempt rate  Free throw attempt rate  \n",
       "0                   0.000000                    0.541  \n",
       "1                   0.250000                    0.000  \n",
       "2                   0.406362                    0.397  \n",
       "3                   0.015000                    0.469  \n",
       "4                   0.298000                    0.093  \n",
       "..                       ...                      ...  \n",
       "492                 0.298000                    0.346  \n",
       "493                 0.104000                    0.169  \n",
       "494                 0.349000                    0.577  \n",
       "495                 0.133000                    0.242  \n",
       "496                 0.007000                    0.500  \n",
       "\n",
       "[495 rows x 8 columns]"
      ]
     },
     "execution_count": 20,
     "metadata": {},
     "output_type": "execute_result"
    }
   ],
   "source": [
    "x"
   ]
  },
  {
   "cell_type": "code",
   "execution_count": 21,
   "id": "3eca8b89",
   "metadata": {},
   "outputs": [
    {
     "data": {
      "text/plain": [
       "0      15.1\n",
       "1      -6.9\n",
       "2      15.9\n",
       "3      22.7\n",
       "4      15.2\n",
       "       ... \n",
       "492    16.6\n",
       "493    18.5\n",
       "494    22.9\n",
       "495    18.2\n",
       "496    20.5\n",
       "Name: Player Efficiency Rating, Length: 495, dtype: float64"
      ]
     },
     "execution_count": 21,
     "metadata": {},
     "output_type": "execute_result"
    }
   ],
   "source": [
    "y"
   ]
  },
  {
   "cell_type": "markdown",
   "id": "f29b75db",
   "metadata": {},
   "source": [
    "# now looking at the categorical features"
   ]
  },
  {
   "cell_type": "code",
   "execution_count": 22,
   "id": "e49bda47",
   "metadata": {},
   "outputs": [
    {
     "data": {
      "text/plain": [
       "<495x495 sparse matrix of type '<class 'numpy.float64'>'\n",
       "\twith 4384 stored elements in Compressed Sparse Row format>"
      ]
     },
     "execution_count": 22,
     "metadata": {},
     "output_type": "execute_result"
    }
   ],
   "source": [
    "from sklearn.preprocessing import OneHotEncoder\n",
    "from sklearn.compose import ColumnTransformer\n",
    "Categorical_features=[\"Player\",\"Position\"]\n",
    "one_hot=OneHotEncoder()\n",
    "transformer=ColumnTransformer([(\"one_hot\",\n",
    "                               one_hot,\n",
    "                               Categorical_features)],\n",
    "                              remainder=\"passthrough\")\n",
    "transformed_x=transformer.fit_transform(player)\n",
    "transformed_x\n",
    "    "
   ]
  },
  {
   "cell_type": "code",
   "execution_count": 23,
   "id": "74e61a03",
   "metadata": {},
   "outputs": [
    {
     "data": {
      "text/plain": [
       "<495x495 sparse matrix of type '<class 'numpy.float64'>'\n",
       "\twith 4384 stored elements in Compressed Sparse Row format>"
      ]
     },
     "execution_count": 23,
     "metadata": {},
     "output_type": "execute_result"
    }
   ],
   "source": [
    "transformed_x"
   ]
  },
  {
   "cell_type": "code",
   "execution_count": 24,
   "id": "631ead2a",
   "metadata": {},
   "outputs": [
    {
     "data": {
      "text/html": [
       "<div>\n",
       "<style scoped>\n",
       "    .dataframe tbody tr th:only-of-type {\n",
       "        vertical-align: middle;\n",
       "    }\n",
       "\n",
       "    .dataframe tbody tr th {\n",
       "        vertical-align: top;\n",
       "    }\n",
       "\n",
       "    .dataframe thead th {\n",
       "        text-align: right;\n",
       "    }\n",
       "</style>\n",
       "<table border=\"1\" class=\"dataframe\">\n",
       "  <thead>\n",
       "    <tr style=\"text-align: right;\">\n",
       "      <th></th>\n",
       "      <th>0</th>\n",
       "    </tr>\n",
       "  </thead>\n",
       "  <tbody>\n",
       "    <tr>\n",
       "      <th>0</th>\n",
       "      <td>(0, 373)\\t1.0\\n  (0, 483)\\t1.0\\n  (0, 488)\\t...</td>\n",
       "    </tr>\n",
       "    <tr>\n",
       "      <th>1</th>\n",
       "      <td>(0, 214)\\t1.0\\n  (0, 484)\\t1.0\\n  (0, 488)\\t...</td>\n",
       "    </tr>\n",
       "    <tr>\n",
       "      <th>2</th>\n",
       "      <td>(0, 417)\\t1.0\\n  (0, 479)\\t1.0\\n  (0, 488)\\t...</td>\n",
       "    </tr>\n",
       "    <tr>\n",
       "      <th>3</th>\n",
       "      <td>(0, 25)\\t1.0\\n  (0, 479)\\t1.0\\n  (0, 488)\\t2...</td>\n",
       "    </tr>\n",
       "    <tr>\n",
       "      <th>4</th>\n",
       "      <td>(0, 285)\\t1.0\\n  (0, 479)\\t1.0\\n  (0, 488)\\t...</td>\n",
       "    </tr>\n",
       "    <tr>\n",
       "      <th>...</th>\n",
       "      <td>...</td>\n",
       "    </tr>\n",
       "    <tr>\n",
       "      <th>490</th>\n",
       "      <td>(0, 108)\\t1.0\\n  (0, 487)\\t1.0\\n  (0, 488)\\t...</td>\n",
       "    </tr>\n",
       "    <tr>\n",
       "      <th>491</th>\n",
       "      <td>(0, 430)\\t1.0\\n  (0, 483)\\t1.0\\n  (0, 488)\\t...</td>\n",
       "    </tr>\n",
       "    <tr>\n",
       "      <th>492</th>\n",
       "      <td>(0, 444)\\t1.0\\n  (0, 484)\\t1.0\\n  (0, 488)\\t...</td>\n",
       "    </tr>\n",
       "    <tr>\n",
       "      <th>493</th>\n",
       "      <td>(0, 72)\\t1.0\\n  (0, 479)\\t1.0\\n  (0, 488)\\t2...</td>\n",
       "    </tr>\n",
       "    <tr>\n",
       "      <th>494</th>\n",
       "      <td>(0, 183)\\t1.0\\n  (0, 479)\\t1.0\\n  (0, 488)\\t...</td>\n",
       "    </tr>\n",
       "  </tbody>\n",
       "</table>\n",
       "<p>495 rows × 1 columns</p>\n",
       "</div>"
      ],
      "text/plain": [
       "                                                     0\n",
       "0      (0, 373)\\t1.0\\n  (0, 483)\\t1.0\\n  (0, 488)\\t...\n",
       "1      (0, 214)\\t1.0\\n  (0, 484)\\t1.0\\n  (0, 488)\\t...\n",
       "2      (0, 417)\\t1.0\\n  (0, 479)\\t1.0\\n  (0, 488)\\t...\n",
       "3      (0, 25)\\t1.0\\n  (0, 479)\\t1.0\\n  (0, 488)\\t2...\n",
       "4      (0, 285)\\t1.0\\n  (0, 479)\\t1.0\\n  (0, 488)\\t...\n",
       "..                                                 ...\n",
       "490    (0, 108)\\t1.0\\n  (0, 487)\\t1.0\\n  (0, 488)\\t...\n",
       "491    (0, 430)\\t1.0\\n  (0, 483)\\t1.0\\n  (0, 488)\\t...\n",
       "492    (0, 444)\\t1.0\\n  (0, 484)\\t1.0\\n  (0, 488)\\t...\n",
       "493    (0, 72)\\t1.0\\n  (0, 479)\\t1.0\\n  (0, 488)\\t2...\n",
       "494    (0, 183)\\t1.0\\n  (0, 479)\\t1.0\\n  (0, 488)\\t...\n",
       "\n",
       "[495 rows x 1 columns]"
      ]
     },
     "execution_count": 24,
     "metadata": {},
     "output_type": "execute_result"
    }
   ],
   "source": [
    "pd.DataFrame(transformed_x)"
   ]
  },
  {
   "cell_type": "code",
   "execution_count": 25,
   "id": "7e6251b9",
   "metadata": {},
   "outputs": [],
   "source": [
    "from sklearn.model_selection import train_test_split\n",
    "x_train,x_test,y_train,y_test=train_test_split(transformed_x,y,test_size=0.2,random_state=42)"
   ]
  },
  {
   "cell_type": "code",
   "execution_count": 26,
   "id": "79cba7d4",
   "metadata": {},
   "outputs": [
    {
     "data": {
      "text/plain": [
       "((396, 495), (99, 495))"
      ]
     },
     "execution_count": 26,
     "metadata": {},
     "output_type": "execute_result"
    }
   ],
   "source": [
    "x_train.shape,x_test.shape"
   ]
  },
  {
   "cell_type": "code",
   "execution_count": 27,
   "id": "646ed72c",
   "metadata": {},
   "outputs": [
    {
     "data": {
      "text/plain": [
       "((396,), (99,))"
      ]
     },
     "execution_count": 27,
     "metadata": {},
     "output_type": "execute_result"
    }
   ],
   "source": [
    "y_train.shape,y_test.shape"
   ]
  },
  {
   "cell_type": "markdown",
   "id": "ee23e15c",
   "metadata": {},
   "source": [
    "# model selection"
   ]
  },
  {
   "cell_type": "code",
   "execution_count": 28,
   "id": "0003684c",
   "metadata": {},
   "outputs": [],
   "source": [
    "from sklearn.linear_model import LinearRegression\n",
    "model=LinearRegression()"
   ]
  },
  {
   "cell_type": "code",
   "execution_count": 29,
   "id": "b02dca0f",
   "metadata": {},
   "outputs": [
    {
     "data": {
      "text/plain": [
       "LinearRegression()"
      ]
     },
     "execution_count": 29,
     "metadata": {},
     "output_type": "execute_result"
    }
   ],
   "source": [
    "model.fit(x_train,y_train)"
   ]
  },
  {
   "cell_type": "markdown",
   "id": "a4c087ce",
   "metadata": {},
   "source": [
    "# Prediction"
   ]
  },
  {
   "cell_type": "code",
   "execution_count": 30,
   "id": "27d953a7",
   "metadata": {},
   "outputs": [],
   "source": [
    "y_pred=model.predict(x_test)"
   ]
  },
  {
   "cell_type": "code",
   "execution_count": 31,
   "id": "591eae7b",
   "metadata": {},
   "outputs": [
    {
     "data": {
      "text/plain": [
       "array([18.29961576, 18.79991587, 12.49979428, 17.49969914,  4.39981042,\n",
       "       12.39990205, 10.60055617,  5.00012054,  8.70061234, 21.30015764,\n",
       "       10.7002234 , 16.00012632, 13.30005887, 15.50027607,  9.99979168,\n",
       "        1.40048423, 13.99980472, 11.60015321,  7.40017375, 13.39978625,\n",
       "        9.20025129, 11.89994321, 22.89982017, 16.39998269, 16.29979347,\n",
       "       16.60018486,  9.70026317,  7.99999116, 24.19980287, 22.29976431,\n",
       "        9.60016896, 13.49991372,  4.49993075, 15.899691  , 24.10012116,\n",
       "       38.7004201 , 11.70013875,  4.60001308, 15.3999398 , 20.09985657,\n",
       "       10.49991389, 18.20015761,  8.40024367, 14.69983419, 15.10021593,\n",
       "        7.49894239, 14.800111  , 12.9000951 , 29.7987019 , 13.29998705,\n",
       "        6.99974154,  8.89989556, 17.5999309 ,  9.89999136, 11.19981619,\n",
       "        8.90023425, 14.30027505, 16.59996086, 16.19986322, 13.90043086,\n",
       "       18.39948627, 13.20045405, 15.00031131, 19.09997844, 17.29993094,\n",
       "       13.90003341, 22.89936177, 12.89989873, 15.00030629, 11.39987991,\n",
       "        9.79992485,  6.10040065, 10.69989492, 33.49893694, 24.09970363,\n",
       "       21.9000913 , 12.30018185,  9.20043772,  2.0999294 , 11.10011799,\n",
       "        5.40015782, 16.50004009, 12.40033076, 10.49989268, 11.70013381,\n",
       "       25.09975623, 12.30006243, 10.60040468, 12.19996562, 27.4996269 ,\n",
       "       21.19963134, 17.10000191, 13.69989724, 13.799754  , 10.30060577,\n",
       "       12.60003692, 11.70010529, 10.79976114,  8.70021411])"
      ]
     },
     "execution_count": 31,
     "metadata": {},
     "output_type": "execute_result"
    }
   ],
   "source": [
    "y_pred"
   ]
  },
  {
   "cell_type": "markdown",
   "id": "7daac7c8",
   "metadata": {},
   "source": [
    "# Evolution"
   ]
  },
  {
   "cell_type": "code",
   "execution_count": 32,
   "id": "ccaf9c15",
   "metadata": {},
   "outputs": [],
   "source": [
    "from sklearn.metrics import mean_squared_error,mean_absolute_error,r2_score"
   ]
  },
  {
   "cell_type": "code",
   "execution_count": 33,
   "id": "e485bac9",
   "metadata": {},
   "outputs": [],
   "source": [
    "mse=mean_squared_error(y_test,y_pred)"
   ]
  },
  {
   "cell_type": "code",
   "execution_count": 34,
   "id": "cde56e0c",
   "metadata": {},
   "outputs": [
    {
     "data": {
      "text/plain": [
       "9.83868069766355e-08"
      ]
     },
     "execution_count": 34,
     "metadata": {},
     "output_type": "execute_result"
    }
   ],
   "source": [
    "mse"
   ]
  },
  {
   "cell_type": "code",
   "execution_count": 35,
   "id": "4c9b3558",
   "metadata": {},
   "outputs": [],
   "source": [
    "mae=mean_absolute_error(y_test,y_pred)"
   ]
  },
  {
   "cell_type": "code",
   "execution_count": 36,
   "id": "cf52fd38",
   "metadata": {},
   "outputs": [
    {
     "data": {
      "text/plain": [
       "0.00022581484225582944"
      ]
     },
     "execution_count": 36,
     "metadata": {},
     "output_type": "execute_result"
    }
   ],
   "source": [
    "mae"
   ]
  },
  {
   "cell_type": "code",
   "execution_count": 37,
   "id": "9ceb02dc",
   "metadata": {},
   "outputs": [],
   "source": [
    "r2=r2_score(y_test,y_pred)"
   ]
  },
  {
   "cell_type": "code",
   "execution_count": 38,
   "id": "0e1f1c88",
   "metadata": {},
   "outputs": [
    {
     "data": {
      "text/plain": [
       "0.9999999974935775"
      ]
     },
     "execution_count": 38,
     "metadata": {},
     "output_type": "execute_result"
    }
   ],
   "source": [
    "r2"
   ]
  },
  {
   "cell_type": "code",
   "execution_count": 39,
   "id": "1064fa0f",
   "metadata": {},
   "outputs": [
    {
     "data": {
      "text/plain": [
       "0.9999999996399326"
      ]
     },
     "execution_count": 39,
     "metadata": {},
     "output_type": "execute_result"
    }
   ],
   "source": [
    "model.score(transformed_x,y)"
   ]
  },
  {
   "cell_type": "markdown",
   "id": "81f9ac0a",
   "metadata": {},
   "source": [
    "# visualizing the score of the linear model"
   ]
  },
  {
   "cell_type": "code",
   "execution_count": 40,
   "id": "78024b29",
   "metadata": {},
   "outputs": [
    {
     "data": {
      "text/plain": [
       "[<matplotlib.lines.Line2D at 0x1e9d4437fa0>]"
      ]
     },
     "execution_count": 40,
     "metadata": {},
     "output_type": "execute_result"
    },
    {
     "data": {
      "image/png": "[encoded data removed]",
      "text/plain": [
       "<Figure size 432x288 with 1 Axes>"
      ]
     },
     "metadata": {
      "needs_background": "light"
     },
     "output_type": "display_data"
    }
   ],
   "source": [
    "plt.plot(y_test,color=\"blue\")\n",
    "plt.plot(y_pred,color=\"red\")"
   ]
  },
  {
   "cell_type": "code",
   "execution_count": 41,
   "id": "b6e376fe",
   "metadata": {},
   "outputs": [],
   "source": [
    "#checking for another model"
   ]
  },
  {
   "cell_type": "code",
   "execution_count": 42,
   "id": "9451078f",
   "metadata": {},
   "outputs": [
    {
     "data": {
      "text/plain": [
       "RandomForestRegressor()"
      ]
     },
     "execution_count": 42,
     "metadata": {},
     "output_type": "execute_result"
    }
   ],
   "source": [
    "from sklearn.ensemble import RandomForestRegressor\n",
    "model2=RandomForestRegressor()\n",
    "from sklearn.model_selection import train_test_split\n",
    "x_train,x_test,y_train,y_test=train_test_split(transformed_x,y,test_size=0.2,random_state=42)\n",
    "model2.fit(x_train,y_train)"
   ]
  },
  {
   "cell_type": "code",
   "execution_count": 43,
   "id": "e203b2b1",
   "metadata": {},
   "outputs": [],
   "source": [
    "y_pred2=model2.predict(x_test)"
   ]
  },
  {
   "cell_type": "code",
   "execution_count": 44,
   "id": "d2a40ee2",
   "metadata": {},
   "outputs": [
    {
     "data": {
      "text/plain": [
       "array([18.273, 18.708, 12.493, 17.511,  4.314, 12.399, 10.637,  5.104,\n",
       "        8.598, 21.405, 10.714, 15.989, 13.328, 15.546,  9.972,  1.364,\n",
       "       13.993, 11.59 ,  7.374, 13.403,  9.206, 11.891, 22.944, 16.377,\n",
       "       16.289, 16.496,  9.675,  7.986, 24.261, 22.145,  9.607, 13.509,\n",
       "        4.472, 15.842, 24.356, 28.603, 11.7  ,  4.784, 15.325, 20.32 ,\n",
       "       10.48 , 18.195,  8.347, 14.643, 15.104,  7.507, 14.809, 12.893,\n",
       "       29.436, 13.326,  6.988,  8.875, 17.579,  9.859, 11.187,  8.877,\n",
       "       14.326, 16.527, 16.213, 13.892, 18.284, 13.167, 15.002, 19.1  ,\n",
       "       17.284, 13.892, 22.922, 12.899, 15.007, 11.444,  9.803,  6.028,\n",
       "       10.722, 29.859, 24.397, 21.735, 12.331,  9.19 ,  2.113, 11.099,\n",
       "        5.305, 16.483, 12.386, 10.48 , 11.696, 25.094, 12.331, 10.65 ,\n",
       "       12.205, 27.123, 21.268, 16.997, 13.688, 13.833, 10.307, 12.599,\n",
       "       11.699, 10.803,  8.605])"
      ]
     },
     "execution_count": 44,
     "metadata": {},
     "output_type": "execute_result"
    }
   ],
   "source": [
    "y_pred2"
   ]
  },
  {
   "cell_type": "code",
   "execution_count": 45,
   "id": "cd388c6a",
   "metadata": {},
   "outputs": [],
   "source": [
    "mse1=mean_squared_error(y_test,y_pred2)"
   ]
  },
  {
   "cell_type": "code",
   "execution_count": 46,
   "id": "cb214eb7",
   "metadata": {},
   "outputs": [
    {
     "data": {
      "text/plain": [
       "1.1710410303030232"
      ]
     },
     "execution_count": 46,
     "metadata": {},
     "output_type": "execute_result"
    }
   ],
   "source": [
    "mse1"
   ]
  },
  {
   "cell_type": "code",
   "execution_count": 47,
   "id": "80daaa35",
   "metadata": {},
   "outputs": [],
   "source": [
    "mae1=mean_absolute_error(y_test,y_pred2)"
   ]
  },
  {
   "cell_type": "code",
   "execution_count": 48,
   "id": "b76fa2d6",
   "metadata": {},
   "outputs": [
    {
     "data": {
      "text/plain": [
       "0.18606060606060593"
      ]
     },
     "execution_count": 48,
     "metadata": {},
     "output_type": "execute_result"
    }
   ],
   "source": [
    "mae1"
   ]
  },
  {
   "cell_type": "code",
   "execution_count": 49,
   "id": "540c947b",
   "metadata": {},
   "outputs": [],
   "source": [
    "r3=r2_score(y_test,y_pred2)"
   ]
  },
  {
   "cell_type": "code",
   "execution_count": 50,
   "id": "892f4e71",
   "metadata": {},
   "outputs": [
    {
     "data": {
      "text/plain": [
       "0.970167508948157"
      ]
     },
     "execution_count": 50,
     "metadata": {},
     "output_type": "execute_result"
    }
   ],
   "source": [
    "r3"
   ]
  },
  {
   "cell_type": "code",
   "execution_count": 51,
   "id": "8d0bc9cb",
   "metadata": {},
   "outputs": [
    {
     "data": {
      "text/plain": [
       "0.9886364255932294"
      ]
     },
     "execution_count": 51,
     "metadata": {},
     "output_type": "execute_result"
    }
   ],
   "source": [
    "model2.score(transformed_x,y)"
   ]
  },
  {
   "cell_type": "code",
   "execution_count": 52,
   "id": "479ddbfe",
   "metadata": {},
   "outputs": [
    {
     "data": {
      "text/plain": [
       "[<matplotlib.lines.Line2D at 0x1e9d4deefa0>]"
      ]
     },
     "execution_count": 52,
     "metadata": {},
     "output_type": "execute_result"
    },
    {
     "data": {
      "image/png": "[encoded data removed]",
      "text/plain": [
       "<Figure size 432x288 with 1 Axes>"
      ]
     },
     "metadata": {
      "needs_background": "light"
     },
     "output_type": "display_data"
    }
   ],
   "source": [
    "plt.plot(y_test,color=\"blue\")\n",
    "plt.plot(y_pred2,color=\"red\")"
   ]
  },
  {
   "cell_type": "markdown",
   "id": "94027e9e",
   "metadata": {},
   "source": [
    "# Visualizing the relationship between them"
   ]
  },
  {
   "cell_type": "code",
   "execution_count": 53,
   "id": "a8d7f6af",
   "metadata": {},
   "outputs": [
    {
     "data": {
      "text/html": [
       "<div>\n",
       "<style scoped>\n",
       "    .dataframe tbody tr th:only-of-type {\n",
       "        vertical-align: middle;\n",
       "    }\n",
       "\n",
       "    .dataframe tbody tr th {\n",
       "        vertical-align: top;\n",
       "    }\n",
       "\n",
       "    .dataframe thead th {\n",
       "        text-align: right;\n",
       "    }\n",
       "</style>\n",
       "<table border=\"1\" class=\"dataframe\">\n",
       "  <thead>\n",
       "    <tr style=\"text-align: right;\">\n",
       "      <th></th>\n",
       "      <th>Player</th>\n",
       "      <th>Position</th>\n",
       "      <th>Age</th>\n",
       "      <th>Games</th>\n",
       "      <th>Minutes Played</th>\n",
       "      <th>True Shooting(%)</th>\n",
       "      <th>Threepoint Attempt rate</th>\n",
       "      <th>Free throw attempt rate</th>\n",
       "      <th>Player Efficiency Rating</th>\n",
       "    </tr>\n",
       "  </thead>\n",
       "  <tbody>\n",
       "    <tr>\n",
       "      <th>0</th>\n",
       "      <td>Precious Achiuwa</td>\n",
       "      <td>PF</td>\n",
       "      <td>21</td>\n",
       "      <td>28</td>\n",
       "      <td>408.0</td>\n",
       "      <td>0.599</td>\n",
       "      <td>0.000000</td>\n",
       "      <td>0.541</td>\n",
       "      <td>15.1</td>\n",
       "    </tr>\n",
       "    <tr>\n",
       "      <th>1</th>\n",
       "      <td>Jaylen Adams</td>\n",
       "      <td>PG</td>\n",
       "      <td>24</td>\n",
       "      <td>6</td>\n",
       "      <td>17.0</td>\n",
       "      <td>0.125</td>\n",
       "      <td>0.250000</td>\n",
       "      <td>0.000</td>\n",
       "      <td>-6.9</td>\n",
       "    </tr>\n",
       "    <tr>\n",
       "      <th>2</th>\n",
       "      <td>Steven Adams</td>\n",
       "      <td>C</td>\n",
       "      <td>27</td>\n",
       "      <td>27</td>\n",
       "      <td>760.0</td>\n",
       "      <td>0.592</td>\n",
       "      <td>0.406362</td>\n",
       "      <td>0.397</td>\n",
       "      <td>15.9</td>\n",
       "    </tr>\n",
       "    <tr>\n",
       "      <th>3</th>\n",
       "      <td>Bam Adebayo</td>\n",
       "      <td>C</td>\n",
       "      <td>23</td>\n",
       "      <td>26</td>\n",
       "      <td>873.0</td>\n",
       "      <td>0.641</td>\n",
       "      <td>0.015000</td>\n",
       "      <td>0.469</td>\n",
       "      <td>22.7</td>\n",
       "    </tr>\n",
       "    <tr>\n",
       "      <th>4</th>\n",
       "      <td>LaMarcus Aldridge</td>\n",
       "      <td>C</td>\n",
       "      <td>35</td>\n",
       "      <td>18</td>\n",
       "      <td>480.0</td>\n",
       "      <td>0.542</td>\n",
       "      <td>0.298000</td>\n",
       "      <td>0.093</td>\n",
       "      <td>15.2</td>\n",
       "    </tr>\n",
       "  </tbody>\n",
       "</table>\n",
       "</div>"
      ],
      "text/plain": [
       "              Player Position  Age  Games  Minutes Played  True Shooting(%)  \\\n",
       "0   Precious Achiuwa       PF   21     28           408.0             0.599   \n",
       "1       Jaylen Adams       PG   24      6            17.0             0.125   \n",
       "2       Steven Adams        C   27     27           760.0             0.592   \n",
       "3        Bam Adebayo        C   23     26           873.0             0.641   \n",
       "4  LaMarcus Aldridge        C   35     18           480.0             0.542   \n",
       "\n",
       "   Threepoint Attempt rate  Free throw attempt rate  Player Efficiency Rating  \n",
       "0                 0.000000                    0.541                      15.1  \n",
       "1                 0.250000                    0.000                      -6.9  \n",
       "2                 0.406362                    0.397                      15.9  \n",
       "3                 0.015000                    0.469                      22.7  \n",
       "4                 0.298000                    0.093                      15.2  "
      ]
     },
     "execution_count": 53,
     "metadata": {},
     "output_type": "execute_result"
    }
   ],
   "source": [
    "player.head()"
   ]
  },
  {
   "cell_type": "code",
   "execution_count": 54,
   "id": "93ba8e3a",
   "metadata": {},
   "outputs": [
    {
     "data": {
      "text/plain": [
       "<AxesSubplot:ylabel='Frequency'>"
      ]
     },
     "execution_count": 54,
     "metadata": {},
     "output_type": "execute_result"
    },
    {
     "data": {
      "image/png": "[encoded data removed]",
      "text/plain": [
       "<Figure size 432x288 with 1 Axes>"
      ]
     },
     "metadata": {
      "needs_background": "light"
     },
     "output_type": "display_data"
    }
   ],
   "source": [
    "player[\"Age\"].plot.hist()"
   ]
  },
  {
   "cell_type": "code",
   "execution_count": 55,
   "id": "6ac84e71",
   "metadata": {},
   "outputs": [
    {
     "data": {
      "text/plain": [
       "<AxesSubplot:ylabel='Frequency'>"
      ]
     },
     "execution_count": 55,
     "metadata": {},
     "output_type": "execute_result"
    },
    {
     "data": {
      "image/png": "[encoded data removed]",
      "text/plain": [
       "<Figure size 432x288 with 1 Axes>"
      ]
     },
     "metadata": {
      "needs_background": "light"
     },
     "output_type": "display_data"
    }
   ],
   "source": [
    "player[\"Games\"].plot.hist(bins=10)"
   ]
  },
  {
   "cell_type": "code",
   "execution_count": 70,
   "id": "aacd2538",
   "metadata": {},
   "outputs": [
    {
     "data": {
      "text/plain": [
       "<AxesSubplot:>"
      ]
     },
     "execution_count": 70,
     "metadata": {},
     "output_type": "execute_result"
    },
    {
     "data": {
      "image/png": "[encoded data removed]",
      "text/plain": [
       "<Figure size 432x288 with 1 Axes>"
      ]
     },
     "metadata": {
      "needs_background": "light"
     },
     "output_type": "display_data"
    }
   ],
   "source": [
    "player[\"Player Efficiency Rating\"].value_counts().plot()"
   ]
  },
  {
   "cell_type": "code",
   "execution_count": 71,
   "id": "999f9efd",
   "metadata": {},
   "outputs": [
    {
     "data": {
      "text/html": [
       "<div>\n",
       "<style scoped>\n",
       "    .dataframe tbody tr th:only-of-type {\n",
       "        vertical-align: middle;\n",
       "    }\n",
       "\n",
       "    .dataframe tbody tr th {\n",
       "        vertical-align: top;\n",
       "    }\n",
       "\n",
       "    .dataframe thead th {\n",
       "        text-align: right;\n",
       "    }\n",
       "</style>\n",
       "<table border=\"1\" class=\"dataframe\">\n",
       "  <thead>\n",
       "    <tr style=\"text-align: right;\">\n",
       "      <th>Games</th>\n",
       "      <th>1</th>\n",
       "      <th>2</th>\n",
       "      <th>3</th>\n",
       "      <th>4</th>\n",
       "      <th>5</th>\n",
       "      <th>6</th>\n",
       "      <th>7</th>\n",
       "      <th>8</th>\n",
       "      <th>9</th>\n",
       "      <th>10</th>\n",
       "      <th>...</th>\n",
       "      <th>21</th>\n",
       "      <th>22</th>\n",
       "      <th>23</th>\n",
       "      <th>24</th>\n",
       "      <th>25</th>\n",
       "      <th>26</th>\n",
       "      <th>27</th>\n",
       "      <th>28</th>\n",
       "      <th>29</th>\n",
       "      <th>30</th>\n",
       "    </tr>\n",
       "    <tr>\n",
       "      <th>Age</th>\n",
       "      <th></th>\n",
       "      <th></th>\n",
       "      <th></th>\n",
       "      <th></th>\n",
       "      <th></th>\n",
       "      <th></th>\n",
       "      <th></th>\n",
       "      <th></th>\n",
       "      <th></th>\n",
       "      <th></th>\n",
       "      <th></th>\n",
       "      <th></th>\n",
       "      <th></th>\n",
       "      <th></th>\n",
       "      <th></th>\n",
       "      <th></th>\n",
       "      <th></th>\n",
       "      <th></th>\n",
       "      <th></th>\n",
       "      <th></th>\n",
       "      <th></th>\n",
       "    </tr>\n",
       "  </thead>\n",
       "  <tbody>\n",
       "    <tr>\n",
       "      <th>19</th>\n",
       "      <td>0</td>\n",
       "      <td>0</td>\n",
       "      <td>1</td>\n",
       "      <td>1</td>\n",
       "      <td>0</td>\n",
       "      <td>1</td>\n",
       "      <td>1</td>\n",
       "      <td>0</td>\n",
       "      <td>0</td>\n",
       "      <td>0</td>\n",
       "      <td>...</td>\n",
       "      <td>1</td>\n",
       "      <td>0</td>\n",
       "      <td>1</td>\n",
       "      <td>0</td>\n",
       "      <td>0</td>\n",
       "      <td>2</td>\n",
       "      <td>0</td>\n",
       "      <td>1</td>\n",
       "      <td>1</td>\n",
       "      <td>0</td>\n",
       "    </tr>\n",
       "    <tr>\n",
       "      <th>20</th>\n",
       "      <td>0</td>\n",
       "      <td>0</td>\n",
       "      <td>1</td>\n",
       "      <td>1</td>\n",
       "      <td>0</td>\n",
       "      <td>1</td>\n",
       "      <td>2</td>\n",
       "      <td>1</td>\n",
       "      <td>1</td>\n",
       "      <td>0</td>\n",
       "      <td>...</td>\n",
       "      <td>1</td>\n",
       "      <td>1</td>\n",
       "      <td>1</td>\n",
       "      <td>2</td>\n",
       "      <td>2</td>\n",
       "      <td>1</td>\n",
       "      <td>2</td>\n",
       "      <td>2</td>\n",
       "      <td>0</td>\n",
       "      <td>1</td>\n",
       "    </tr>\n",
       "    <tr>\n",
       "      <th>21</th>\n",
       "      <td>1</td>\n",
       "      <td>1</td>\n",
       "      <td>0</td>\n",
       "      <td>1</td>\n",
       "      <td>1</td>\n",
       "      <td>2</td>\n",
       "      <td>1</td>\n",
       "      <td>2</td>\n",
       "      <td>1</td>\n",
       "      <td>1</td>\n",
       "      <td>...</td>\n",
       "      <td>1</td>\n",
       "      <td>0</td>\n",
       "      <td>1</td>\n",
       "      <td>1</td>\n",
       "      <td>2</td>\n",
       "      <td>2</td>\n",
       "      <td>5</td>\n",
       "      <td>1</td>\n",
       "      <td>0</td>\n",
       "      <td>0</td>\n",
       "    </tr>\n",
       "    <tr>\n",
       "      <th>22</th>\n",
       "      <td>1</td>\n",
       "      <td>1</td>\n",
       "      <td>1</td>\n",
       "      <td>4</td>\n",
       "      <td>1</td>\n",
       "      <td>3</td>\n",
       "      <td>3</td>\n",
       "      <td>1</td>\n",
       "      <td>1</td>\n",
       "      <td>1</td>\n",
       "      <td>...</td>\n",
       "      <td>0</td>\n",
       "      <td>3</td>\n",
       "      <td>4</td>\n",
       "      <td>3</td>\n",
       "      <td>1</td>\n",
       "      <td>2</td>\n",
       "      <td>2</td>\n",
       "      <td>4</td>\n",
       "      <td>0</td>\n",
       "      <td>0</td>\n",
       "    </tr>\n",
       "    <tr>\n",
       "      <th>23</th>\n",
       "      <td>1</td>\n",
       "      <td>3</td>\n",
       "      <td>4</td>\n",
       "      <td>1</td>\n",
       "      <td>0</td>\n",
       "      <td>0</td>\n",
       "      <td>1</td>\n",
       "      <td>2</td>\n",
       "      <td>2</td>\n",
       "      <td>5</td>\n",
       "      <td>...</td>\n",
       "      <td>1</td>\n",
       "      <td>2</td>\n",
       "      <td>1</td>\n",
       "      <td>1</td>\n",
       "      <td>0</td>\n",
       "      <td>6</td>\n",
       "      <td>1</td>\n",
       "      <td>2</td>\n",
       "      <td>0</td>\n",
       "      <td>1</td>\n",
       "    </tr>\n",
       "    <tr>\n",
       "      <th>24</th>\n",
       "      <td>1</td>\n",
       "      <td>0</td>\n",
       "      <td>0</td>\n",
       "      <td>1</td>\n",
       "      <td>1</td>\n",
       "      <td>3</td>\n",
       "      <td>1</td>\n",
       "      <td>2</td>\n",
       "      <td>1</td>\n",
       "      <td>1</td>\n",
       "      <td>...</td>\n",
       "      <td>1</td>\n",
       "      <td>1</td>\n",
       "      <td>2</td>\n",
       "      <td>2</td>\n",
       "      <td>2</td>\n",
       "      <td>3</td>\n",
       "      <td>6</td>\n",
       "      <td>1</td>\n",
       "      <td>4</td>\n",
       "      <td>0</td>\n",
       "    </tr>\n",
       "    <tr>\n",
       "      <th>25</th>\n",
       "      <td>1</td>\n",
       "      <td>0</td>\n",
       "      <td>1</td>\n",
       "      <td>0</td>\n",
       "      <td>0</td>\n",
       "      <td>4</td>\n",
       "      <td>0</td>\n",
       "      <td>3</td>\n",
       "      <td>2</td>\n",
       "      <td>0</td>\n",
       "      <td>...</td>\n",
       "      <td>0</td>\n",
       "      <td>1</td>\n",
       "      <td>2</td>\n",
       "      <td>1</td>\n",
       "      <td>1</td>\n",
       "      <td>1</td>\n",
       "      <td>3</td>\n",
       "      <td>4</td>\n",
       "      <td>5</td>\n",
       "      <td>1</td>\n",
       "    </tr>\n",
       "    <tr>\n",
       "      <th>26</th>\n",
       "      <td>0</td>\n",
       "      <td>0</td>\n",
       "      <td>1</td>\n",
       "      <td>1</td>\n",
       "      <td>0</td>\n",
       "      <td>0</td>\n",
       "      <td>0</td>\n",
       "      <td>1</td>\n",
       "      <td>0</td>\n",
       "      <td>2</td>\n",
       "      <td>...</td>\n",
       "      <td>0</td>\n",
       "      <td>1</td>\n",
       "      <td>1</td>\n",
       "      <td>1</td>\n",
       "      <td>3</td>\n",
       "      <td>2</td>\n",
       "      <td>3</td>\n",
       "      <td>5</td>\n",
       "      <td>0</td>\n",
       "      <td>2</td>\n",
       "    </tr>\n",
       "    <tr>\n",
       "      <th>27</th>\n",
       "      <td>1</td>\n",
       "      <td>1</td>\n",
       "      <td>2</td>\n",
       "      <td>2</td>\n",
       "      <td>0</td>\n",
       "      <td>0</td>\n",
       "      <td>1</td>\n",
       "      <td>0</td>\n",
       "      <td>0</td>\n",
       "      <td>1</td>\n",
       "      <td>...</td>\n",
       "      <td>0</td>\n",
       "      <td>1</td>\n",
       "      <td>2</td>\n",
       "      <td>2</td>\n",
       "      <td>3</td>\n",
       "      <td>2</td>\n",
       "      <td>1</td>\n",
       "      <td>1</td>\n",
       "      <td>4</td>\n",
       "      <td>0</td>\n",
       "    </tr>\n",
       "    <tr>\n",
       "      <th>28</th>\n",
       "      <td>0</td>\n",
       "      <td>0</td>\n",
       "      <td>1</td>\n",
       "      <td>0</td>\n",
       "      <td>0</td>\n",
       "      <td>1</td>\n",
       "      <td>0</td>\n",
       "      <td>0</td>\n",
       "      <td>2</td>\n",
       "      <td>1</td>\n",
       "      <td>...</td>\n",
       "      <td>2</td>\n",
       "      <td>0</td>\n",
       "      <td>2</td>\n",
       "      <td>1</td>\n",
       "      <td>1</td>\n",
       "      <td>4</td>\n",
       "      <td>4</td>\n",
       "      <td>3</td>\n",
       "      <td>5</td>\n",
       "      <td>0</td>\n",
       "    </tr>\n",
       "    <tr>\n",
       "      <th>29</th>\n",
       "      <td>0</td>\n",
       "      <td>0</td>\n",
       "      <td>0</td>\n",
       "      <td>0</td>\n",
       "      <td>0</td>\n",
       "      <td>0</td>\n",
       "      <td>0</td>\n",
       "      <td>1</td>\n",
       "      <td>0</td>\n",
       "      <td>1</td>\n",
       "      <td>...</td>\n",
       "      <td>0</td>\n",
       "      <td>1</td>\n",
       "      <td>1</td>\n",
       "      <td>0</td>\n",
       "      <td>2</td>\n",
       "      <td>2</td>\n",
       "      <td>3</td>\n",
       "      <td>4</td>\n",
       "      <td>0</td>\n",
       "      <td>1</td>\n",
       "    </tr>\n",
       "    <tr>\n",
       "      <th>30</th>\n",
       "      <td>0</td>\n",
       "      <td>1</td>\n",
       "      <td>1</td>\n",
       "      <td>0</td>\n",
       "      <td>0</td>\n",
       "      <td>0</td>\n",
       "      <td>0</td>\n",
       "      <td>0</td>\n",
       "      <td>0</td>\n",
       "      <td>1</td>\n",
       "      <td>...</td>\n",
       "      <td>0</td>\n",
       "      <td>1</td>\n",
       "      <td>1</td>\n",
       "      <td>3</td>\n",
       "      <td>2</td>\n",
       "      <td>3</td>\n",
       "      <td>3</td>\n",
       "      <td>0</td>\n",
       "      <td>1</td>\n",
       "      <td>0</td>\n",
       "    </tr>\n",
       "    <tr>\n",
       "      <th>31</th>\n",
       "      <td>0</td>\n",
       "      <td>0</td>\n",
       "      <td>0</td>\n",
       "      <td>0</td>\n",
       "      <td>0</td>\n",
       "      <td>0</td>\n",
       "      <td>0</td>\n",
       "      <td>1</td>\n",
       "      <td>0</td>\n",
       "      <td>1</td>\n",
       "      <td>...</td>\n",
       "      <td>1</td>\n",
       "      <td>0</td>\n",
       "      <td>1</td>\n",
       "      <td>1</td>\n",
       "      <td>1</td>\n",
       "      <td>0</td>\n",
       "      <td>2</td>\n",
       "      <td>0</td>\n",
       "      <td>4</td>\n",
       "      <td>0</td>\n",
       "    </tr>\n",
       "    <tr>\n",
       "      <th>32</th>\n",
       "      <td>0</td>\n",
       "      <td>1</td>\n",
       "      <td>0</td>\n",
       "      <td>0</td>\n",
       "      <td>1</td>\n",
       "      <td>0</td>\n",
       "      <td>0</td>\n",
       "      <td>0</td>\n",
       "      <td>0</td>\n",
       "      <td>0</td>\n",
       "      <td>...</td>\n",
       "      <td>0</td>\n",
       "      <td>1</td>\n",
       "      <td>2</td>\n",
       "      <td>0</td>\n",
       "      <td>0</td>\n",
       "      <td>1</td>\n",
       "      <td>2</td>\n",
       "      <td>2</td>\n",
       "      <td>1</td>\n",
       "      <td>0</td>\n",
       "    </tr>\n",
       "    <tr>\n",
       "      <th>33</th>\n",
       "      <td>0</td>\n",
       "      <td>0</td>\n",
       "      <td>0</td>\n",
       "      <td>0</td>\n",
       "      <td>0</td>\n",
       "      <td>0</td>\n",
       "      <td>0</td>\n",
       "      <td>0</td>\n",
       "      <td>0</td>\n",
       "      <td>0</td>\n",
       "      <td>...</td>\n",
       "      <td>1</td>\n",
       "      <td>0</td>\n",
       "      <td>2</td>\n",
       "      <td>0</td>\n",
       "      <td>1</td>\n",
       "      <td>0</td>\n",
       "      <td>1</td>\n",
       "      <td>0</td>\n",
       "      <td>1</td>\n",
       "      <td>0</td>\n",
       "    </tr>\n",
       "    <tr>\n",
       "      <th>34</th>\n",
       "      <td>0</td>\n",
       "      <td>0</td>\n",
       "      <td>0</td>\n",
       "      <td>0</td>\n",
       "      <td>0</td>\n",
       "      <td>0</td>\n",
       "      <td>0</td>\n",
       "      <td>0</td>\n",
       "      <td>0</td>\n",
       "      <td>0</td>\n",
       "      <td>...</td>\n",
       "      <td>0</td>\n",
       "      <td>1</td>\n",
       "      <td>0</td>\n",
       "      <td>0</td>\n",
       "      <td>2</td>\n",
       "      <td>2</td>\n",
       "      <td>0</td>\n",
       "      <td>1</td>\n",
       "      <td>0</td>\n",
       "      <td>1</td>\n",
       "    </tr>\n",
       "    <tr>\n",
       "      <th>35</th>\n",
       "      <td>0</td>\n",
       "      <td>0</td>\n",
       "      <td>0</td>\n",
       "      <td>0</td>\n",
       "      <td>0</td>\n",
       "      <td>1</td>\n",
       "      <td>0</td>\n",
       "      <td>1</td>\n",
       "      <td>0</td>\n",
       "      <td>0</td>\n",
       "      <td>...</td>\n",
       "      <td>0</td>\n",
       "      <td>0</td>\n",
       "      <td>0</td>\n",
       "      <td>0</td>\n",
       "      <td>0</td>\n",
       "      <td>3</td>\n",
       "      <td>0</td>\n",
       "      <td>0</td>\n",
       "      <td>1</td>\n",
       "      <td>0</td>\n",
       "    </tr>\n",
       "    <tr>\n",
       "      <th>36</th>\n",
       "      <td>0</td>\n",
       "      <td>0</td>\n",
       "      <td>0</td>\n",
       "      <td>0</td>\n",
       "      <td>0</td>\n",
       "      <td>0</td>\n",
       "      <td>0</td>\n",
       "      <td>0</td>\n",
       "      <td>0</td>\n",
       "      <td>0</td>\n",
       "      <td>...</td>\n",
       "      <td>0</td>\n",
       "      <td>0</td>\n",
       "      <td>0</td>\n",
       "      <td>0</td>\n",
       "      <td>1</td>\n",
       "      <td>0</td>\n",
       "      <td>1</td>\n",
       "      <td>0</td>\n",
       "      <td>2</td>\n",
       "      <td>0</td>\n",
       "    </tr>\n",
       "    <tr>\n",
       "      <th>37</th>\n",
       "      <td>0</td>\n",
       "      <td>0</td>\n",
       "      <td>0</td>\n",
       "      <td>0</td>\n",
       "      <td>0</td>\n",
       "      <td>0</td>\n",
       "      <td>0</td>\n",
       "      <td>0</td>\n",
       "      <td>0</td>\n",
       "      <td>0</td>\n",
       "      <td>...</td>\n",
       "      <td>0</td>\n",
       "      <td>0</td>\n",
       "      <td>0</td>\n",
       "      <td>0</td>\n",
       "      <td>0</td>\n",
       "      <td>1</td>\n",
       "      <td>0</td>\n",
       "      <td>0</td>\n",
       "      <td>0</td>\n",
       "      <td>0</td>\n",
       "    </tr>\n",
       "  </tbody>\n",
       "</table>\n",
       "<p>19 rows × 30 columns</p>\n",
       "</div>"
      ],
      "text/plain": [
       "Games  1   2   3   4   5   6   7   8   9   10  ...  21  22  23  24  25  26  \\\n",
       "Age                                            ...                           \n",
       "19      0   0   1   1   0   1   1   0   0   0  ...   1   0   1   0   0   2   \n",
       "20      0   0   1   1   0   1   2   1   1   0  ...   1   1   1   2   2   1   \n",
       "21      1   1   0   1   1   2   1   2   1   1  ...   1   0   1   1   2   2   \n",
       "22      1   1   1   4   1   3   3   1   1   1  ...   0   3   4   3   1   2   \n",
       "23      1   3   4   1   0   0   1   2   2   5  ...   1   2   1   1   0   6   \n",
       "24      1   0   0   1   1   3   1   2   1   1  ...   1   1   2   2   2   3   \n",
       "25      1   0   1   0   0   4   0   3   2   0  ...   0   1   2   1   1   1   \n",
       "26      0   0   1   1   0   0   0   1   0   2  ...   0   1   1   1   3   2   \n",
       "27      1   1   2   2   0   0   1   0   0   1  ...   0   1   2   2   3   2   \n",
       "28      0   0   1   0   0   1   0   0   2   1  ...   2   0   2   1   1   4   \n",
       "29      0   0   0   0   0   0   0   1   0   1  ...   0   1   1   0   2   2   \n",
       "30      0   1   1   0   0   0   0   0   0   1  ...   0   1   1   3   2   3   \n",
       "31      0   0   0   0   0   0   0   1   0   1  ...   1   0   1   1   1   0   \n",
       "32      0   1   0   0   1   0   0   0   0   0  ...   0   1   2   0   0   1   \n",
       "33      0   0   0   0   0   0   0   0   0   0  ...   1   0   2   0   1   0   \n",
       "34      0   0   0   0   0   0   0   0   0   0  ...   0   1   0   0   2   2   \n",
       "35      0   0   0   0   0   1   0   1   0   0  ...   0   0   0   0   0   3   \n",
       "36      0   0   0   0   0   0   0   0   0   0  ...   0   0   0   0   1   0   \n",
       "37      0   0   0   0   0   0   0   0   0   0  ...   0   0   0   0   0   1   \n",
       "\n",
       "Games  27  28  29  30  \n",
       "Age                    \n",
       "19      0   1   1   0  \n",
       "20      2   2   0   1  \n",
       "21      5   1   0   0  \n",
       "22      2   4   0   0  \n",
       "23      1   2   0   1  \n",
       "24      6   1   4   0  \n",
       "25      3   4   5   1  \n",
       "26      3   5   0   2  \n",
       "27      1   1   4   0  \n",
       "28      4   3   5   0  \n",
       "29      3   4   0   1  \n",
       "30      3   0   1   0  \n",
       "31      2   0   4   0  \n",
       "32      2   2   1   0  \n",
       "33      1   0   1   0  \n",
       "34      0   1   0   1  \n",
       "35      0   0   1   0  \n",
       "36      1   0   2   0  \n",
       "37      0   0   0   0  \n",
       "\n",
       "[19 rows x 30 columns]"
      ]
     },
     "execution_count": 71,
     "metadata": {},
     "output_type": "execute_result"
    }
   ],
   "source": [
    "pd.crosstab(player[\"Age\"],player[\"Games\"])"
   ]
  },
  {
   "cell_type": "code",
   "execution_count": 81,
   "id": "c4714521",
   "metadata": {},
   "outputs": [
    {
     "data": {
      "text/plain": [
       "<AxesSubplot:xlabel='Age'>"
      ]
     },
     "execution_count": 81,
     "metadata": {},
     "output_type": "execute_result"
    },
    {
     "data": {
      "image/png": "[encoded data removed]",
      "text/plain": [
       "<Figure size 720x432 with 1 Axes>"
      ]
     },
     "metadata": {
      "needs_background": "light"
     },
     "output_type": "display_data"
    }
   ],
   "source": [
    "pd.crosstab(player[\"Age\"][:10],player[\"Games\"][:10]).plot(kind=\"bar\",figsize=(10,6),color=[\"red\",\"orange\"])"
   ]
  },
  {
   "cell_type": "code",
   "execution_count": 74,
   "id": "31cb7b46",
   "metadata": {},
   "outputs": [
    {
     "data": {
      "text/plain": [
       "<AxesSubplot:>"
      ]
     },
     "execution_count": 74,
     "metadata": {},
     "output_type": "execute_result"
    },
    {
     "data": {
      "image/png": "[encoded data removed]",
      "text/plain": [
       "<Figure size 432x288 with 1 Axes>"
      ]
     },
     "metadata": {
      "needs_background": "light"
     },
     "output_type": "display_data"
    }
   ],
   "source": [
    "player[\"Free throw attempt rate\"].hist()"
   ]
  },
  {
   "cell_type": "code",
   "execution_count": 75,
   "id": "ada56b2b",
   "metadata": {},
   "outputs": [
    {
     "data": {
      "text/plain": [
       "<AxesSubplot:>"
      ]
     },
     "execution_count": 75,
     "metadata": {},
     "output_type": "execute_result"
    },
    {
     "data": {
      "image/png": "[encoded data removed]",
      "text/plain": [
       "<Figure size 432x288 with 1 Axes>"
      ]
     },
     "metadata": {
      "needs_background": "light"
     },
     "output_type": "display_data"
    }
   ],
   "source": [
    "player[\"Threepoint Attempt rate\"].hist()"
   ]
  },
  {
   "cell_type": "code",
   "execution_count": 84,
   "id": "1c95e464",
   "metadata": {},
   "outputs": [
    {
     "data": {
      "text/plain": [
       "<AxesSubplot:>"
      ]
     },
     "execution_count": 84,
     "metadata": {},
     "output_type": "execute_result"
    },
    {
     "data": {
      "image/png": "[encoded data removed]",
      "text/plain": [
       "<Figure size 432x288 with 1 Axes>"
      ]
     },
     "metadata": {
      "needs_background": "light"
     },
     "output_type": "display_data"
    }
   ],
   "source": [
    "player[\"Age\"][:10].plot()"
   ]
  },
  {
   "cell_type": "code",
   "execution_count": 85,
   "id": "1b8f2a75",
   "metadata": {},
   "outputs": [
    {
     "data": {
      "text/plain": [
       "<AxesSubplot:>"
      ]
     },
     "execution_count": 85,
     "metadata": {},
     "output_type": "execute_result"
    },
    {
     "data": {
      "image/png": "[encoded data removed]",
      "text/plain": [
       "<Figure size 432x288 with 1 Axes>"
      ]
     },
     "metadata": {
      "needs_background": "light"
     },
     "output_type": "display_data"
    }
   ],
   "source": [
    "player[\"Player Efficiency Rating\"].plot()"
   ]
  },
  {
   "cell_type": "code",
   "execution_count": null,
   "id": "4fecd743",
   "metadata": {},
   "outputs": [],
   "source": []
  }
 ],
 "metadata": {
  "kernelspec": {
   "display_name": "Python 3 (ipykernel)",
   "language": "python",
   "name": "python3"
  },
  "language_info": {
   "codemirror_mode": {
    "name": "ipython",
    "version": 3
   },
   "file_extension": ".py",
   "mimetype": "text/x-python",
   "name": "python",
   "nbconvert_exporter": "python",
   "pygments_lexer": "ipython3",
   "version": "3.9.7"
  }
 },
 "nbformat": 4,
 "nbformat_minor": 5
}
